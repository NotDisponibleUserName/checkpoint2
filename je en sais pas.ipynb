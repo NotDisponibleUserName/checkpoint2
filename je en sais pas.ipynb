{
 "cells": [
  {
   "cell_type": "code",
   "execution_count": 8,
   "id": "92a57d83",
   "metadata": {},
   "outputs": [
    {
     "name": "stdout",
     "output_type": "stream",
     "text": [
      "no\n",
      "bar\n",
      "bar no\n"
     ]
    }
   ],
   "source": [
    "a=input(\"\")\n",
    "b=input(\"\")\n",
    "c=print(b,a)\n"
   ]
  },
  {
   "cell_type": "code",
   "execution_count": 13,
   "id": "41195f2e",
   "metadata": {},
   "outputs": [
    {
     "name": "stdout",
     "output_type": "stream",
     "text": [
      "entrer votre nombre:5\n",
      "615\n"
     ]
    }
   ],
   "source": [
    "n=str(input(\"entrer votre nombre:\"))\n",
    "nn=n*2\n",
    "nnn=n*3\n",
    "\n",
    "\n",
    "a=(int(n)+int(nn)+int(nnn))\n",
    "\n",
    "print(a)"
   ]
  },
  {
   "cell_type": "code",
   "execution_count": 26,
   "id": "391d1ff1",
   "metadata": {},
   "outputs": [
    {
     "ename": "SyntaxError",
     "evalue": "invalid syntax (Temp/ipykernel_5096/3734723325.py, line 4)",
     "output_type": "error",
     "traceback": [
      "\u001b[1;36m  File \u001b[1;32m\"C:\\Users\\LENOVO\\AppData\\Local\\Temp/ipykernel_5096/3734723325.py\"\u001b[1;36m, line \u001b[1;32m4\u001b[0m\n\u001b[1;33m    del l[]\u001b[0m\n\u001b[1;37m          ^\u001b[0m\n\u001b[1;31mSyntaxError\u001b[0m\u001b[1;31m:\u001b[0m invalid syntax\n"
     ]
    }
   ],
   "source": [
    "l=[0,'lag',3,\"How are you today???\"]\n",
    "l.insert(2,2222)\n",
    "print(l)\n",
    "del l[]\n",
    "print(l)"
   ]
  },
  {
   "cell_type": "code",
   "execution_count": 40,
   "id": "bb9147a4",
   "metadata": {},
   "outputs": [
    {
     "name": "stdout",
     "output_type": "stream",
     "text": [
      "windows10\n"
     ]
    }
   ],
   "source": [
    "a={\"système\":\"windows10\",\"language\":\"java\",\"marque_de_pc\":\"lenovo\"}\n",
    "print(a[\"système\"])"
   ]
  },
  {
   "cell_type": "code",
   "execution_count": null,
   "id": "7bbf0daa",
   "metadata": {},
   "outputs": [],
   "source": [
    "def lag(a):\n",
    "    baraa = {}\n",
    "    \n",
    "    for i in a:\n",
    "        keys = \n",
    "         if i in keys:\n",
    "            baraa[i] += 1 \n",
    "        else: baraat[i] = 1 \n",
    "            \n",
    "            return \n",
    "            \n",
    "print(lag('google.com'))\n",
    "#Excected output: {'o': 3, '.': 1, 'g': 2, 'l': 1, 'e': 1, 'c': 1, 'm': 1}"
   ]
  },
  {
   "cell_type": "code",
   "execution_count": 52,
   "id": "940381a5",
   "metadata": {},
   "outputs": [
    {
     "name": "stdout",
     "output_type": "stream",
     "text": [
      "{'toi', 'baraa'}\n",
      "{'d', 't', 'b', 'k', 'a', 'r', 'l'}\n"
     ]
    }
   ],
   "source": [
    "s={\"baraa\",\"toi\",\"baraa\"}\n",
    "print(s)\n",
    "s2=set(\"babrdttkl\")\n",
    "print(s2)"
   ]
  },
  {
   "cell_type": "code",
   "execution_count": null,
   "id": "1c47e70c",
   "metadata": {},
   "outputs": [],
   "source": []
  },
  {
   "cell_type": "code",
   "execution_count": null,
   "id": "fedd9939",
   "metadata": {},
   "outputs": [],
   "source": []
  }
 ],
 "metadata": {
  "kernelspec": {
   "display_name": "Python 3 (ipykernel)",
   "language": "python",
   "name": "python3"
  },
  "language_info": {
   "codemirror_mode": {
    "name": "ipython",
    "version": 3
   },
   "file_extension": ".py",
   "mimetype": "text/x-python",
   "name": "python",
   "nbconvert_exporter": "python",
   "pygments_lexer": "ipython3",
   "version": "3.9.7"
  }
 },
 "nbformat": 4,
 "nbformat_minor": 5
}
